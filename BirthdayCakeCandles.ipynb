{
 "cells": [
  {
   "cell_type": "markdown",
   "metadata": {},
   "source": [
    "Colleen is turning  years old! Therefore, she has  candles of various heights on her cake, and candle  has height . Because the taller candles tower over the shorter ones, Colleen can only blow out the tallest candles.\n",
    "\n",
    "Given the  for each individual candle, find and print the number of candles she can successfully blow out.\n",
    "\n",
    "Input Format\n",
    "\n",
    "The first line contains a single integer, , denoting the number of candles on the cake. \n",
    "The second line contains  space-separated integers, where each integer  describes the height of candle .\n",
    "\n",
    "Constraints\n",
    "\n",
    "\n",
    "\n",
    "Output Format\n",
    "\n",
    "Print the number of candles Colleen blows out on a new line.\n",
    "\n",
    "Sample Input 0\n",
    "\n",
    "4\n",
    "3 2 1 3\n",
    "Sample Output 0\n",
    "\n",
    "2"
   ]
  },
  {
   "cell_type": "code",
   "execution_count": 23,
   "metadata": {
    "collapsed": true
   },
   "outputs": [],
   "source": [
    "import sys"
   ]
  },
  {
   "cell_type": "code",
   "execution_count": 24,
   "metadata": {
    "collapsed": true
   },
   "outputs": [],
   "source": [
    "def birthdayCakeCandles(n, ar):\n",
    "    max = 0\n",
    "    count = 0\n",
    "    for i in range (0,n):\n",
    "        if ar[i]>max:\n",
    "            max = ar[i]\n",
    "            \n",
    "    for i in range(0,n):\n",
    "        if(max == ar[i]):\n",
    "            count = count + 1\n",
    "            \n",
    "    return count"
   ]
  },
  {
   "cell_type": "code",
   "execution_count": 27,
   "metadata": {},
   "outputs": [
    {
     "name": "stdout",
     "output_type": "stream",
     "text": [
      "6\n",
      "5 4 5 3 5 2\n"
     ]
    }
   ],
   "source": [
    "n = int(input().strip())\n",
    "ar = list(map(int, input().strip().split(' ')))"
   ]
  },
  {
   "cell_type": "code",
   "execution_count": 28,
   "metadata": {},
   "outputs": [
    {
     "name": "stdout",
     "output_type": "stream",
     "text": [
      "3\n"
     ]
    }
   ],
   "source": [
    "result = birthdayCakeCandles(n, ar)\n",
    "print(result)"
   ]
  },
  {
   "cell_type": "code",
   "execution_count": null,
   "metadata": {
    "collapsed": true
   },
   "outputs": [],
   "source": []
  }
 ],
 "metadata": {
  "kernelspec": {
   "display_name": "Python 3",
   "language": "python",
   "name": "python3"
  },
  "language_info": {
   "codemirror_mode": {
    "name": "ipython",
    "version": 3
   },
   "file_extension": ".py",
   "mimetype": "text/x-python",
   "name": "python",
   "nbconvert_exporter": "python",
   "pygments_lexer": "ipython3",
   "version": "3.6.2"
  }
 },
 "nbformat": 4,
 "nbformat_minor": 2
}
