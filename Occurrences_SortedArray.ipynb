{
 "cells": [
  {
   "cell_type": "code",
   "execution_count": 1,
   "metadata": {
    "collapsed": true
   },
   "outputs": [],
   "source": [
    "array = [1,2,3,3,3,3,4,5,5,6,7,8,9]"
   ]
  },
  {
   "cell_type": "code",
   "execution_count": 4,
   "metadata": {},
   "outputs": [
    {
     "data": {
      "text/plain": [
       "9"
      ]
     },
     "execution_count": 4,
     "metadata": {},
     "output_type": "execute_result"
    }
   ],
   "source": [
    "array[len(array)-1]"
   ]
  },
  {
   "cell_type": "code",
   "execution_count": 7,
   "metadata": {},
   "outputs": [
    {
     "data": {
      "text/plain": [
       "1"
      ]
     },
     "execution_count": 7,
     "metadata": {},
     "output_type": "execute_result"
    }
   ],
   "source": [
    "array[0]"
   ]
  },
  {
   "cell_type": "markdown",
   "metadata": {},
   "source": [
    "#brute force method would iterate through the array and count the occurrences of the number.This would be O(n)"
   ]
  },
  {
   "cell_type": "markdown",
   "metadata": {},
   "source": [
    "function to find how many times a number occurs in a sorted array. For instance, the output is 4 when the inputs are an array {1, 2, 3, 3, 3, 3, 4, 5} and the number 3 because 3 occurs 4 times in the given array."
   ]
  },
  {
   "cell_type": "markdown",
   "metadata": {},
   "source": [
    "Hence we use binary search concept to improve the efficiency to O(log n)"
   ]
  },
  {
   "cell_type": "code",
   "execution_count": 17,
   "metadata": {},
   "outputs": [],
   "source": [
    "def getfirstindex(array, low, high, key):\n",
    "    if(low>high):\n",
    "        print(\"error\")\n",
    "        \n",
    "    mid = int(low + (high-low)/2)\n",
    "    \n",
    "    if(array[mid] == key):\n",
    "        if((mid>0 and array[mid - 1])!= key or (mid == 0)):\n",
    "            return mid\n",
    "        high = mid -1\n",
    "        \n",
    "    elif(array[mid] > key):\n",
    "        high = mid -1\n",
    "    else:\n",
    "        low = mid + 1\n",
    "        \n",
    "    return getfirstindex(array,low,high,key)\n",
    "        \n",
    "    "
   ]
  },
  {
   "cell_type": "code",
   "execution_count": 18,
   "metadata": {},
   "outputs": [
    {
     "data": {
      "text/plain": [
       "2"
      ]
     },
     "execution_count": 18,
     "metadata": {},
     "output_type": "execute_result"
    }
   ],
   "source": [
    "getfirstindex(array,0,len(array)-1,3)"
   ]
  },
  {
   "cell_type": "code",
   "execution_count": 24,
   "metadata": {
    "collapsed": true
   },
   "outputs": [],
   "source": [
    "def getlastindex(array,low,high,key):\n",
    "    if(low>high):\n",
    "        print(\"error\")\n",
    "        \n",
    "    mid = int(low + (high-low)/2)\n",
    "    \n",
    "    if(array[mid] == key):\n",
    "        if((mid<len(array)-1 and array[mid + 1])!= key or (mid == len(array) - 1)):\n",
    "            return mid\n",
    "        low = mid + 1\n",
    "        \n",
    "    elif(array[mid] > key):\n",
    "        high = mid -1\n",
    "    else:\n",
    "        low = mid + 1\n",
    "        \n",
    "    return getlastindex(array,low,high,key)"
   ]
  },
  {
   "cell_type": "code",
   "execution_count": 25,
   "metadata": {},
   "outputs": [
    {
     "data": {
      "text/plain": [
       "5"
      ]
     },
     "execution_count": 25,
     "metadata": {},
     "output_type": "execute_result"
    }
   ],
   "source": [
    "getlastindex(array,0,len(array)-1,3)"
   ]
  },
  {
   "cell_type": "code",
   "execution_count": 26,
   "metadata": {
    "collapsed": true
   },
   "outputs": [],
   "source": [
    "def countOccurrence(array, key):\n",
    "    first = getfirstindex(array,0,len(array)-1,3)\n",
    "    last = getlastindex(array,0,len(array)-1,3)\n",
    "    \n",
    "    occurence = 0\n",
    "    \n",
    "    if(first > -1 and last > -1):\n",
    "        occurence = last - first + 1\n",
    "        \n",
    "    return occurence\n",
    "    "
   ]
  },
  {
   "cell_type": "code",
   "execution_count": 27,
   "metadata": {},
   "outputs": [
    {
     "data": {
      "text/plain": [
       "4"
      ]
     },
     "execution_count": 27,
     "metadata": {},
     "output_type": "execute_result"
    }
   ],
   "source": [
    "countOccurrence(array, 3)"
   ]
  },
  {
   "cell_type": "code",
   "execution_count": null,
   "metadata": {
    "collapsed": true
   },
   "outputs": [],
   "source": []
  }
 ],
 "metadata": {
  "kernelspec": {
   "display_name": "Python 3",
   "language": "python",
   "name": "python3"
  },
  "language_info": {
   "codemirror_mode": {
    "name": "ipython",
    "version": 3
   },
   "file_extension": ".py",
   "mimetype": "text/x-python",
   "name": "python",
   "nbconvert_exporter": "python",
   "pygments_lexer": "ipython3",
   "version": "3.6.2"
  }
 },
 "nbformat": 4,
 "nbformat_minor": 2
}
