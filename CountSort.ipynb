{
 "cells": [
  {
   "cell_type": "code",
   "execution_count": 18,
   "metadata": {
    "collapsed": true
   },
   "outputs": [],
   "source": [
    "array = [23,1,22,56,45,87,45,84,34,75,34,24,33,22,2,3,1,1,88,77]"
   ]
  },
  {
   "cell_type": "code",
   "execution_count": 19,
   "metadata": {
    "collapsed": true
   },
   "outputs": [],
   "source": [
    "def CountSort(array):\n",
    "    biggestvalue = 99\n",
    "    timesofvalue ={}\n",
    "    \n",
    "    for i in range(0,100):\n",
    "        timesofvalue[i] = 0\n",
    "        \n",
    "    for i in range(0,len(array)):\n",
    "        value = array[i]\n",
    "        if(value<0 and value > biggestvalue):\n",
    "            print(\"invalid values\")\n",
    "            return\n",
    "        timesofvalue[value]+=1\n",
    "        \n",
    "    index = 0\n",
    "    for i in range(0,biggestvalue+1):\n",
    "        for j in range(0,timesofvalue[i]):\n",
    "            array[index] = i\n",
    "            index+=1\n",
    "    \n",
    "    return array"
   ]
  },
  {
   "cell_type": "code",
   "execution_count": 20,
   "metadata": {},
   "outputs": [
    {
     "data": {
      "text/plain": [
       "[1, 1, 1, 2, 3, 22, 22, 23, 24, 33, 34, 34, 45, 45, 56, 75, 77, 84, 87, 88]"
      ]
     },
     "execution_count": 20,
     "metadata": {},
     "output_type": "execute_result"
    }
   ],
   "source": [
    "CountSort(array)"
   ]
  },
  {
   "cell_type": "code",
   "execution_count": null,
   "metadata": {
    "collapsed": true
   },
   "outputs": [],
   "source": []
  }
 ],
 "metadata": {
  "kernelspec": {
   "display_name": "Python 3",
   "language": "python",
   "name": "python3"
  },
  "language_info": {
   "codemirror_mode": {
    "name": "ipython",
    "version": 3
   },
   "file_extension": ".py",
   "mimetype": "text/x-python",
   "name": "python",
   "nbconvert_exporter": "python",
   "pygments_lexer": "ipython3",
   "version": "3.6.2"
  }
 },
 "nbformat": 4,
 "nbformat_minor": 2
}
