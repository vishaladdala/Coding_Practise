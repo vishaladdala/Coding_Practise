{
 "cells": [
  {
   "cell_type": "markdown",
   "metadata": {},
   "source": [
    "Binary Search Tree "
   ]
  },
  {
   "cell_type": "code",
   "execution_count": 2,
   "metadata": {
    "collapsed": true
   },
   "outputs": [],
   "source": [
    "class Node:\n",
    "\tdef __init__(self, val):\n",
    "\t\tself.value = val\n",
    "\t\tself.leftChild = None\n",
    "\t\tself.rightChild = None\n",
    "\t\t\n",
    "\tdef insert(self, data):\n",
    "\t\tif self.value == data:\n",
    "\t\t\treturn False\n",
    "\t\t\t\n",
    "\t\telif self.value > data:\n",
    "\t\t\tif self.leftChild:\n",
    "\t\t\t\treturn self.leftChild.insert(data)\n",
    "\t\t\telse:\n",
    "\t\t\t\tself.leftChild = Node(data)\n",
    "\t\t\t\treturn True\n",
    "\n",
    "\t\telse:\n",
    "\t\t\tif self.rightChild:\n",
    "\t\t\t\treturn self.rightChild.insert(data)\n",
    "\t\t\telse:\n",
    "\t\t\t\tself.rightChild = Node(data)\n",
    "\t\t\t\treturn True\n",
    "\t\t\t\t\n",
    "\tdef find(self, data):\n",
    "\t\tif(self.value == data):\n",
    "\t\t\treturn True\n",
    "\t\telif self.value > data:\n",
    "\t\t\tif self.leftChild:\n",
    "\t\t\t\treturn self.leftChild.find(data)\n",
    "\t\t\telse:\n",
    "\t\t\t\treturn False\n",
    "\t\telse:\n",
    "\t\t\tif self.rightChild:\n",
    "\t\t\t\treturn self.rightChild.find(data)\n",
    "\t\t\telse:\n",
    "\t\t\t\treturn False\n",
    "\t\t\t\t\n",
    "\tdef getHeight(self):\n",
    "\t\tif self.leftChild and self.rightChild:\n",
    "\t\t\treturn 1 + max(self.leftChild.getHeight(), self.rightChild.getHeight())\n",
    "\t\telif self.leftChild:\n",
    "\t\t\treturn 1 + self.leftChild.getHeight()\n",
    "\t\telif self.rightChild:\n",
    "\t\t\treturn 1 + self.rightChild.getHeight()\n",
    "\t\telse:\n",
    "\t\t\treturn 1\n"
   ]
  },
  {
   "cell_type": "code",
   "execution_count": 3,
   "metadata": {
    "collapsed": true
   },
   "outputs": [],
   "source": [
    "class Tree:\n",
    "\tdef __init__(self):\n",
    "\t\tself.root = None\n",
    "\n",
    "\tdef insert(self, data):\n",
    "\t\tif self.root:\n",
    "\t\t\treturn self.root.insert(data)\n",
    "\t\telse:\n",
    "\t\t\tself.root = Node(data)\n",
    "\t\t\treturn True\n",
    "\n",
    "\tdef find(self, data):\n",
    "\t\tif self.root:\n",
    "\t\t\treturn self.root.find(data)\n",
    "\t\telse:\n",
    "\t\t\treturn False\n",
    "\t\t\t\n",
    "\tdef getHeight(self):\n",
    "\t\tif self.root:\n",
    "\t\t\treturn self.root.getHeight()\n",
    "\t\telse:\n",
    "\t\t\treturn -1\n",
    "\t\n",
    "\tdef remove(self, data):\n",
    "\t\t# empty tree\n",
    "\t\tif self.root is None:\n",
    "\t\t\treturn False\n",
    "\t\t\t\n",
    "\t\t# data is in root node\t\n",
    "\t\telif self.root.value == data:\n",
    "\t\t\tif self.root.leftChild is None and self.root.rightChild is None:\n",
    "\t\t\t\tself.root = None\n",
    "\t\t\telif self.root.leftChild and self.root.rightChild is None:\n",
    "\t\t\t\tself.root = self.root.leftChild\n",
    "\t\t\telif self.root.leftChild is None and self.root.rightChild:\n",
    "\t\t\t\tself.root = self.root.rightChild\n",
    "\t\t\telif self.root.leftChild and self.root.rightChild:\n",
    "\t\t\t\tdelNodeParent = self.root\n",
    "\t\t\t\tdelNode = self.root.rightChild\n",
    "\t\t\t\twhile delNode.leftChild:\n",
    "\t\t\t\t\tdelNodeParent = delNode\n",
    "\t\t\t\t\tdelNode = delNode.leftChild\n",
    "\t\t\t\t\t\n",
    "\t\t\t\tself.root.value = delNode.value\n",
    "\t\t\t\tif delNode.rightChild:\n",
    "\t\t\t\t\tif delNodeParent.value > delNode.value:\n",
    "\t\t\t\t\t\tdelNodeParent.leftChild = delNode.rightChild\n",
    "\t\t\t\t\telif delNodeParent.value < delNode.value:\n",
    "\t\t\t\t\t\tdelNodeParent.rightChild = delNode.rightChild\n",
    "\t\t\t\telse:\n",
    "\t\t\t\t\tif delNode.value < delNodeParent.value:\n",
    "\t\t\t\t\t\tdelNodeParent.leftChild = None\n",
    "\t\t\t\t\telse:\n",
    "\t\t\t\t\t\tdelNodeParent.rightChild = None\n",
    "\t\t\t\t\t\t\n",
    "\t\t\treturn True\n",
    "\t\t\n",
    "\t\tparent = None\n",
    "\t\tnode = self.root\n",
    "\t\t\n",
    "\t\t# find node to remove\n",
    "\t\twhile node and node.value != data:\n",
    "\t\t\tparent = node\n",
    "\t\t\tif data < node.value:\n",
    "\t\t\t\tnode = node.leftChild\n",
    "\t\t\telif data > node.value:\n",
    "\t\t\t\tnode = node.rightChild\n",
    "\t\t\n",
    "\t\t# case 1: data not found\n",
    "\t\tif node is None or node.value != data:\n",
    "\t\t\treturn False\n",
    "\t\t\t\n",
    "\t\t# case 2: remove-node has no children\n",
    "\t\telif node.leftChild is None and node.rightChild is None:\n",
    "\t\t\tif data < parent.value:\n",
    "\t\t\t\tparent.leftChild = None\n",
    "\t\t\telse:\n",
    "\t\t\t\tparent.rightChild = None\n",
    "\t\t\treturn True\n",
    "\t\t\t\n",
    "\t\t# case 3: remove-node has left child only\n",
    "\t\telif node.leftChild and node.rightChild is None:\n",
    "\t\t\tif data < parent.value:\n",
    "\t\t\t\tparent.leftChild = node.leftChild\n",
    "\t\t\telse:\n",
    "\t\t\t\tparent.rightChild = node.leftChild\n",
    "\t\t\treturn True\n",
    "\t\t\t\n",
    "\t\t# case 4: remove-node has right child only\n",
    "\t\telif node.leftChild is None and node.rightChild:\n",
    "\t\t\tif data < parent.value:\n",
    "\t\t\t\tparent.leftChild = node.rightChild\n",
    "\t\t\telse:\n",
    "\t\t\t\tparent.rightChild = node.rightChild\n",
    "\t\t\treturn True\n",
    "\t\t\t\n",
    "\t\t# case 5: remove-node has left and right children\n",
    "\t\telse:\n",
    "\t\t\tdelNodeParent = node\n",
    "\t\t\tdelNode = node.rightChild\n",
    "\t\t\twhile delNode.leftChild:\n",
    "\t\t\t\tdelNodeParent = delNode\n",
    "\t\t\t\tdelNode = delNode.leftChild\n",
    "\t\t\t\t\n",
    "\t\t\tnode.value = delNode.value\n",
    "\t\t\tif delNode.rightChild:\n",
    "\t\t\t\tif delNodeParent.value > delNode.value:\n",
    "\t\t\t\t\tdelNodeParent.leftChild = delNode.rightChild\n",
    "\t\t\t\telif delNodeParent.value < delNode.value:\n",
    "\t\t\t\t\tdelNodeParent.rightChild = delNode.rightChild\n",
    "\t\t\telse:\n",
    "\t\t\t\tif delNode.value < delNodeParent.value:\n",
    "\t\t\t\t\tdelNodeParent.leftChild = None\n",
    "\t\t\t\telse:\n",
    "\t\t\t\t\tdelNodeParent.rightChild = None\n",
    "\n"
   ]
  },
  {
   "cell_type": "code",
   "execution_count": 4,
   "metadata": {},
   "outputs": [
    {
     "name": "stdout",
     "output_type": "stream",
     "text": [
      "True\n"
     ]
    }
   ],
   "source": [
    "bst = Tree()\n",
    "print(bst.insert(10))"
   ]
  },
  {
   "cell_type": "code",
   "execution_count": 5,
   "metadata": {},
   "outputs": [
    {
     "data": {
      "text/plain": [
       "True"
      ]
     },
     "execution_count": 5,
     "metadata": {},
     "output_type": "execute_result"
    }
   ],
   "source": [
    "bst.insert(5)"
   ]
  },
  {
   "cell_type": "code",
   "execution_count": 6,
   "metadata": {},
   "outputs": [
    {
     "data": {
      "text/plain": [
       "True"
      ]
     },
     "execution_count": 6,
     "metadata": {},
     "output_type": "execute_result"
    }
   ],
   "source": [
    "bst.insert(15)"
   ]
  },
  {
   "cell_type": "code",
   "execution_count": 7,
   "metadata": {},
   "outputs": [
    {
     "data": {
      "text/plain": [
       "True"
      ]
     },
     "execution_count": 7,
     "metadata": {},
     "output_type": "execute_result"
    }
   ],
   "source": [
    "bst.insert(2)"
   ]
  },
  {
   "cell_type": "code",
   "execution_count": 9,
   "metadata": {},
   "outputs": [
    {
     "data": {
      "text/plain": [
       "3"
      ]
     },
     "execution_count": 9,
     "metadata": {},
     "output_type": "execute_result"
    }
   ],
   "source": [
    "bst.getHeight()"
   ]
  },
  {
   "cell_type": "code",
   "execution_count": null,
   "metadata": {
    "collapsed": true
   },
   "outputs": [],
   "source": []
  }
 ],
 "metadata": {
  "kernelspec": {
   "display_name": "Python 3",
   "language": "python",
   "name": "python3"
  },
  "language_info": {
   "codemirror_mode": {
    "name": "ipython",
    "version": 3
   },
   "file_extension": ".py",
   "mimetype": "text/x-python",
   "name": "python",
   "nbconvert_exporter": "python",
   "pygments_lexer": "ipython3",
   "version": "3.6.2"
  }
 },
 "nbformat": 4,
 "nbformat_minor": 2
}
